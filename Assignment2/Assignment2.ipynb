{
 "cells": [
  {
   "cell_type": "markdown",
   "metadata": {},
   "source": [
    "# Assignment 2\n",
    "\n",
    "\n",
    "You must submit your notebook by running `python3 -m autograder.run.submit Assignment2.ipynb` from your local repository.\n",
    "\n",
    "To write legible answers you will need to be familiar with both [Markdown](https://github.com/adam-p/markdown-here/wiki/Markdown-Cheatsheet) and [Latex](https://www.latex-tutorial.com/tutorials/amsmath/)\n",
    "\n",
    "Before you turn this problem in, make sure everything runs as expected. To do so, restart the kernel and run all cells (in the menubar, select Runtime→→Restart and run all).\n",
    "\n",
    "#### Show your work!\n",
    "Whenever you are asked to find the solution to a problem, be sure to also **show how you arrived** at your answer.\n",
    "\n",
    "Make sure you fill in any place that says \"YOUR CODE HERE\" or \"YOUR ANSWERS HERE\", as well as your name below:"
   ]
  },
  {
   "cell_type": "markdown",
   "metadata": {},
   "source": [
    "## Some Helper Functions\n",
    "\n",
    "Implement an evaluation function that takes in some board position and player colour and returns a score. "
   ]
  },
  {
   "cell_type": "code",
   "execution_count": 13,
   "metadata": {},
   "outputs": [],
   "source": [
    "import chess\n",
    "import random\n",
    "from math import inf\n",
    "from IPython.display import display, clear_output"
   ]
  },
  {
   "cell_type": "code",
   "execution_count": 36,
   "metadata": {},
   "outputs": [],
   "source": [
    "def evaluation_old(b: chess.Board, player: bool):\n",
    "    \"\"\"\n",
    "    This function evaluates a board position and returns a score value.\n",
    "\n",
    "    Parameters:\n",
    "    - board: the chess board that the knight is moving upon\n",
    "    - player: the colour of the active player (True -> white, False -> black)\n",
    "\n",
    "    Returns:\n",
    "    - an integer score for a board state\n",
    "    \"\"\"\n",
    "\n",
    "    # Starting with simple evaluation function which just counts the number of pieces on the board\n",
    "    white_pieces = len(b.pieces(chess.PAWN, chess.WHITE)) + len(b.pieces(chess.KNIGHT, chess.WHITE)) + \\\n",
    "                   len(b.pieces(chess.BISHOP, chess.WHITE)) + len(b.pieces(chess.ROOK, chess.WHITE)) + \\\n",
    "                   len(b.pieces(chess.QUEEN, chess.WHITE))\n",
    "\n",
    "    black_pieces = len(b.pieces(chess.PAWN, chess.BLACK)) + len(b.pieces(chess.KNIGHT, chess.BLACK)) + \\\n",
    "                   len(b.pieces(chess.BISHOP, chess.BLACK)) + len(b.pieces(chess.ROOK, chess.BLACK)) + \\\n",
    "                   len(b.pieces(chess.QUEEN, chess.BLACK))\n",
    "\n",
    "    score = white_pieces - black_pieces if player else black_pieces - white_pieces\n",
    "    return score"
   ]
  },
  {
   "cell_type": "code",
   "execution_count": 45,
   "metadata": {},
   "outputs": [],
   "source": [
    "\n",
    "def evaluation(b: chess.Board, player: bool):\n",
    "    \"\"\"\n",
    "    This function evaluates a board position and returns a score value.\n",
    "\n",
    "    Parameters:\n",
    "    - board: the chess board that the knight is moving upon\n",
    "    - player: the colour of the active player (True -> white, False -> black)\n",
    "\n",
    "    Returns:\n",
    "    - an integer score for a board state\n",
    "    \"\"\"\n",
    "    player_color = chess.WHITE if player else chess.BLACK\n",
    "    opponent_color = chess.BLACK if player else chess.WHITE\n",
    "    king_score = 200 * (len(b.pieces(chess.KING, player_color)) - len(b.pieces(chess.KING, opponent_color)))\n",
    "    queen_score = 9 * (len(b.pieces(chess.QUEEN, player_color)) - len(b.pieces(chess.QUEEN, opponent_color)))\n",
    "    rook_score = 5 * (len(b.pieces(chess.ROOK, player_color)) - len(b.pieces(chess.ROOK, opponent_color)))\n",
    "    bishop_knight_score = 3 * ((len(b.pieces(chess.BISHOP, player_color)) - len(b.pieces(chess.BISHOP, opponent_color))) +\n",
    "                        (len(b.pieces(chess.KNIGHT, player_color)) - len(b.pieces(chess.KNIGHT, opponent_color))))\n",
    "    pawn_score = 1 * (len(b.pieces(chess.PAWN, player_color)) - len(b.pieces(chess.PAWN, opponent_color)))\n",
    "    # missing score of doubled, blocked, and isolated pawns\n",
    "    # missing mobility score\n",
    "\n",
    "    score = king_score + queen_score + rook_score + bishop_knight_score + pawn_score\n",
    "    return score"
   ]
  },
  {
   "cell_type": "markdown",
   "metadata": {},
   "source": [
    "## Q1\n",
    "\n",
    "Implement the minimax algorithm to choose the best chess move for a given board position, player colour, and look-ahead depth. Make use of your `evaluation()` function here to calculate the score of any individual board state."
   ]
  },
  {
   "cell_type": "code",
   "execution_count": 38,
   "metadata": {},
   "outputs": [],
   "source": [
    "def get_minimax_move(b: chess.Board, player: bool, depth: int):\n",
    "    \"\"\"\n",
    "    This function chooses the best move for the given board position, player, and depth.\n",
    "\n",
    "    Parameters:\n",
    "    - board: the chess board that the knight is moving upon\n",
    "    - player: the colour of the active player (True -> white, False -> black)\n",
    "    - depth: the number of moves that the algorithmn should look ahead.\n",
    "\n",
    "    Returns:\n",
    "    A single chess.Move type object.\n",
    "    \"\"\"\n",
    "    def helper(local_b: chess.Board, local_player: bool, local_depth: int, alpha, beta) -> tuple:\n",
    "        \"\"\" returns (score, move) \"\"\"\n",
    "        local_b = local_b.copy()\n",
    "        best_move = None\n",
    "        if local_player:\n",
    "            # max node\n",
    "            v = -inf\n",
    "            for move in local_b.legal_moves:\n",
    "                best_move = move\n",
    "                local_b.push(move)\n",
    "                if local_depth == 1:\n",
    "                    return evaluation(local_b, player), move\n",
    "                next_score, _ = helper(local_b, not local_player, local_depth - 1, alpha, beta)\n",
    "                v = max(v, next_score)\n",
    "                local_b.pop()\n",
    "                if v >= beta:\n",
    "                    return v, move\n",
    "                alpha = max(alpha, v)\n",
    "            return v, best_move\n",
    "\n",
    "        else:\n",
    "            # min node\n",
    "            v = inf\n",
    "            for move in local_b.legal_moves:\n",
    "                best_move = move\n",
    "                local_b.push(move)\n",
    "                if local_depth == 1:\n",
    "                    return evaluation(local_b, player), move\n",
    "                next_score, _ = helper(local_b, not local_player, local_depth - 1, alpha, beta)\n",
    "                v = min(v, next_score)\n",
    "                local_b.pop()\n",
    "                if v <= alpha:\n",
    "                    return v, move\n",
    "                beta = min(beta, v)\n",
    "            return v, best_move\n",
    "\n",
    "    _, move = helper(b, player, depth, -inf, inf)\n",
    "    assert isinstance(move, chess.Move)\n",
    "    return move"
   ]
  },
  {
   "cell_type": "markdown",
   "metadata": {},
   "source": [
    "## Q2\n",
    "\n",
    "Implement the expectimax algorithm to choose the best chess move for a given board position, player colour, and look-ahead depth. Make use of your `evaluation()` function here to calculate the score of any individual board state."
   ]
  },
  {
   "cell_type": "code",
   "execution_count": 16,
   "metadata": {},
   "outputs": [],
   "source": [
    "def get_expectimax_move(b: chess.Board, player: bool, depth: int):\n",
    "    \"\"\"\n",
    "    This function chooses the best move for the given board position, player, and depth.\n",
    "\n",
    "    Parameters:\n",
    "    - board: the chess board that the knight is moving upon\n",
    "    - player: the colour of the active player (True -> white, False -> black)\n",
    "    - depth: the number of moves that the algorithmn should look ahead.\n",
    "\n",
    "    Returns:\n",
    "    A single chess.Move type object.\n",
    "    \"\"\"\n",
    "\n",
    "    def helper(local_b, local_player, local_depth, alpha, beta):\n",
    "        # YOUR CODE HERE\n",
    "        raise NotImplementedError\n",
    "\n",
    "    # YOUR CODE HERE\n",
    "    raise NotImplementedError"
   ]
  },
  {
   "cell_type": "markdown",
   "metadata": {},
   "source": [
    "## Q3\n",
    "\n",
    "Plays against the strongest grading agent, so copy your best agent here."
   ]
  },
  {
   "cell_type": "code",
   "execution_count": 39,
   "metadata": {},
   "outputs": [],
   "source": [
    "def get_best_move(b: chess.Board, player: bool, depth: int):\n",
    "    \"\"\"\n",
    "    This function chooses the best move for the given board position, player, and depth.\n",
    "\n",
    "    Parameters:\n",
    "    - board: the chess board that the knight is moving upon\n",
    "    - player: the colour of the active player (True -> white, False -> black)\n",
    "    - depth: the number of moves that the algorithmn should look ahead.\n",
    "\n",
    "    Returns:\n",
    "    A single chess.Move type object.\n",
    "    \"\"\"\n",
    "\n",
    "    return get_minimax_move(b, player, depth)"
   ]
  },
  {
   "cell_type": "markdown",
   "metadata": {},
   "source": [
    "## Local Testing\n",
    "For your convenience, here are some helper functions to run games and allow you to test your agents."
   ]
  },
  {
   "cell_type": "code",
   "execution_count": 40,
   "metadata": {},
   "outputs": [],
   "source": [
    "MAX_DEPTH = 3\n",
    "SEED = random.Random(0)\n",
    "\n",
    "def get_random_move(b:chess.Board, *_):\n",
    "    return SEED.choice(list(b.legal_moves))\n",
    "\n",
    "def test_game(p1, p2):\n",
    "    \"\"\"\n",
    "    A function that plays a chess game with visuals\n",
    "\n",
    "    Parameters:\n",
    "    - p1: the first chess agent, playing as the white player\n",
    "    - p2: the second chess agent, playing as the black player\n",
    "\n",
    "    Returns:\n",
    "    Nothing, just plays the game one move at a time.\n",
    "    Press enter in the popup box to play the next move.\n",
    "    Type 'q' into the popup box and press enter to stop the game (you can also interrupt the kernel if this fails.)\n",
    "    \"\"\"\n",
    "    global SEED\n",
    "    SEED = random.Random(0)\n",
    "    board = chess.Board()\n",
    "    current_player = p1\n",
    "\n",
    "    while not board.is_checkmate()  and not board.is_stalemate() and not board.can_claim_draw():\n",
    "        clear_output(True)\n",
    "\n",
    "        move = current_player(board, board.turn, MAX_DEPTH)\n",
    "        board.push(move)\n",
    "        display(board)\n",
    "\n",
    "        current_player = p1 if board.turn else p2\n",
    "\n",
    "        if input() == \"q\":\n",
    "            break\n"
   ]
  },
  {
   "cell_type": "code",
   "execution_count": null,
   "metadata": {},
   "outputs": [],
   "source": [
    "# Random Vs. Random\n",
    "random_agent = get_random_move\n",
    "test_game(random_agent, random_agent)"
   ]
  },
  {
   "cell_type": "code",
   "execution_count": null,
   "metadata": {},
   "outputs": [],
   "source": [
    "# Minimax Vs. Random\n",
    "random_agent = get_random_move\n",
    "minimax_agent = get_minimax_move\n",
    "\n",
    "test_game(minimax_agent, random_agent)\n"
   ]
  },
  {
   "cell_type": "code",
   "execution_count": null,
   "metadata": {},
   "outputs": [],
   "source": [
    "# Expectimax Vs. Random\n",
    "random_agent = get_random_move\n",
    "expectimax_agent = get_expectimax_move\n",
    "test_game(expectimax_agent, random_agent)"
   ]
  },
  {
   "cell_type": "code",
   "execution_count": 41,
   "metadata": {},
   "outputs": [],
   "source": [
    "# Run several games at once without graphics\n",
    "def grade_game(p1, p2):\n",
    "    \"\"\"\n",
    "    Grades a single game at a time.\n",
    "    (Note: differs from actual grading script, which has some ways to resolve draws.)\n",
    "\n",
    "    Return legend:\n",
    "    0: error during game\n",
    "    1: p1 wins through checkmate\n",
    "    2: p2 wins through checkmate\n",
    "    3: draw\n",
    "    \"\"\"\n",
    "    global SEED\n",
    "    SEED = random.Random(0)\n",
    "    board = chess.Board()\n",
    "    current_player = p1\n",
    "\n",
    "    while not board.is_checkmate() and not board.is_stalemate() and not board.can_claim_draw():\n",
    "        move = current_player(board, MAX_DEPTH, board.turn)\n",
    "        try:\n",
    "            board.push(move)\n",
    "        except:\n",
    "            print(f\"Error while grading game, move = {move}, current_player = {current_player}\")\n",
    "            print(board)\n",
    "            return -1\n",
    "\n",
    "        current_player = p1 if board.turn else p2\n",
    "\n",
    "    outcome = board.outcome()\n",
    "    if outcome is not None:\n",
    "        if outcome.winner:\n",
    "            return 1\n",
    "        else:\n",
    "            return 2\n",
    "\n",
    "    return 3"
   ]
  },
  {
   "cell_type": "code",
   "execution_count": 44,
   "metadata": {},
   "outputs": [
    {
     "name": "stdout",
     "output_type": "stream",
     "text": [
      "Playing 5 games...\n",
      "Game 1: draw\n",
      "Game 2: draw\n",
      "Game 3: draw\n",
      "Game 4: draw\n",
      "Game 5: draw\n"
     ]
    }
   ],
   "source": [
    "# Play many games in a row without visuals (faster)\n",
    "random_agent = get_random_move\n",
    "best_agent = get_best_move\n",
    "num_games = 5\n",
    "\n",
    "print(f\"Playing {num_games} games...\")\n",
    "for i in range(1, num_games+1):\n",
    "    result = grade_game(best_agent, random_agent)\n",
    "\n",
    "    if result == 0:\n",
    "        print(f\"Game {i}: error pushing a move during gameplay\")\n",
    "\n",
    "    elif result == 1:\n",
    "        print(f\"Game {i}: p1 wins\")\n",
    "\n",
    "    elif result == 2:\n",
    "        print(f\"Game {i}: p1 loses\")\n",
    "\n",
    "    elif result == 3:\n",
    "        print(f\"Game {i}: draw\")"
   ]
  },
  {
   "cell_type": "code",
   "execution_count": null,
   "metadata": {},
   "outputs": [],
   "source": []
  }
 ],
 "metadata": {
  "kernelspec": {
   "display_name": "Python 3",
   "language": "python",
   "name": "python3"
  },
  "language_info": {
   "codemirror_mode": {
    "name": "ipython",
    "version": 3
   },
   "file_extension": ".py",
   "mimetype": "text/x-python",
   "name": "python",
   "nbconvert_exporter": "python",
   "pygments_lexer": "ipython3",
   "version": "3.11.5"
  }
 },
 "nbformat": 4,
 "nbformat_minor": 2
}
