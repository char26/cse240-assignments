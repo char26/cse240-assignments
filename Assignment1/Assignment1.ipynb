{
 "cells": [
  {
   "cell_type": "markdown",
   "metadata": {
    "id": "GWCPCDvGW_cm"
   },
   "source": [
    "# Assignment 1\n",
    "\n",
    "\n",
    "You must submit your notebook by running `python3 -m autograder.cli.submission.submit Assignment1.ipynb` from your local repository.\n",
    "\n",
    "To write legible answers you will need to be familiar with both [Markdown](https://github.com/adam-p/markdown-here/wiki/Markdown-Cheatsheet) and [Latex](https://www.latex-tutorial.com/tutorials/amsmath/)\n",
    "\n",
    "Before you turn this problem in, make sure everything runs as expected. To do so, restart the kernel and run all cells (in the menubar, select Runtime→→Restart and run all).\n",
    "\n",
    "#### Show your work!\n",
    "Whenever you are asked to find the solution to a problem, be sure to also **show how you arrived** at your answer.\n",
    "\n",
    "Make sure you fill in any place that says \"YOUR CODE HERE\" or \"YOUR ANSWERS HERE\", as well as your name below:\n"
   ]
  },
  {
   "cell_type": "markdown",
   "metadata": {},
   "source": [
    "Charles Alders"
   ]
  },
  {
   "cell_type": "markdown",
   "metadata": {
    "id": "Hc-OUgRxWIPM"
   },
   "source": [
    "## Q1\n",
    "\n",
    "![figure](https://docs.google.com/drawings/d/e/2PACX-1vR3cNeZWfHNbPXRGyZrKazhI2WNM9wroJoAsshbD7LzwEBd4k0W_zu-T30_O_4iHC2qpKRxCRBA1IjV/pub?w=480&h=320)\n",
    "\n",
    "Which solution would the following search algorithms find to move from node *Start* to node *Goal* if run the algorithm on the search graph above? Break any ties alphabetically. Please give each answer in a form similar to this example: `[start, 'a', 'd', goal]`\n",
    "\n",
    "a. Breadth-First Search\n",
    "\n",
    "b. Depth-First Search\n",
    "\n",
    "c. Uniform Cost Search\n",
    "\n",
    "Explain by drawing an equivalent search tree for each of them. Draw the search trees graphically. A good way to do this is through [Google Drawings](https://docs.google.com/drawings)\n",
    "\n"
   ]
  },
  {
   "cell_type": "code",
   "execution_count": 1,
   "metadata": {},
   "outputs": [],
   "source": [
    "def question1():\n",
    "    \"\"\"\n",
    "    Description:\n",
    "\n",
    "    a) We visit node 'a', then 'd', then 'b' (expanded from when we visited 'a'),\n",
    "    then we visit the children of 'd', which is only the goal node. Done!\n",
    "\n",
    "    b) Visit node 'a' since it has the lowest weight of the two children of the start node.\n",
    "    Then visit 'b' since it is the only child of 'a'. 'c' and goal are tied for weights, so we break\n",
    "    the tie alphabetically and visit 'c' first. After 'c', we visit the goal node.\n",
    "\n",
    "    c) Visit 'a' first since it is the lowest weight. Then visit 'b' since it has a\n",
    "    lower weight than 'd'. Again, 'c' and goal are tied for weights, so we break\n",
    "    the tie alphabetically and visit 'c' first. After 'c', we visit the goal node.\n",
    "    \"\"\"\n",
    "    start = 'Start'\n",
    "    goal = 'Goal'\n",
    "\n",
    "    a = [start, 'd', goal]\n",
    "    b = [start, 'a', 'b', 'c', goal]\n",
    "    c = [start, 'a', 'b', goal]\n",
    "\n",
    "    return a, b, c"
   ]
  },
  {
   "cell_type": "markdown",
   "metadata": {},
   "source": [
    "![figure](https://docs.google.com/drawings/d/e/2PACX-1vSwwPKDzukH-ZLpculDoYwsckQRaEgaeq96DFUeO3e7ShGxqxAuBAnv8OYfGrX25PrCqs3t5vbZw9FM/pub?w=954&h=595)"
   ]
  },
  {
   "cell_type": "markdown",
   "metadata": {
    "id": "2cCZFudXW_cp"
   },
   "source": [
    "## Q2\n",
    "Answer the following questions about the search problem shown in the figure below. Break any ties alphabetically. For the questions that ask for a path, please give your answers in a form similar to this example: `[start, 'a', 'd', goal]`. For questions `e` and `f`, please return either `True` or `False`.\n",
    "\n",
    "Start − a − d − Goal\n",
    "\n",
    "![figure](https://docs.google.com/drawings/d/e/2PACX-1vS4nUoOVGzXNZTHZLsY6wZ6VyjtPlA4mhcvWs-6mgwaeDwoMftqbYyytgBVmgOnqLoUGZbRt8cuQNfA/pub?w=640&h=480)\n",
    "\n",
    "What path would be returned for this search problem using each of the following graph search algorithms?\n",
    "\n",
    "a. Breadth-First Search\n",
    "\n",
    "b. Uniform Cost Search\n",
    "\n",
    "c. Depth-First Search\n",
    "\n",
    "d. A* Search (using an appropriate heuristic function). Explain what heuristc function you used.\n",
    "\n",
    "\n",
    "\n",
    "Consider the heuristics for this problem shown in the table below.\n",
    "\n",
    "|     State     |     h1     |     h2        |\n",
    "|---------------|------------|---------------|\n",
    "|     start     |     5      |     4         |\n",
    "|     a         |     3      |     2         |\n",
    "|     b         |     6      |     6         |\n",
    "|     c         |     2      |     1         |\n",
    "|     d         |     3      |     3         |\n",
    "|     goal      |     0      |     0         |\n",
    "\n",
    "\n",
    "e. Is h1 consistent?\n",
    "\n",
    "f. Is h2 consistent?"
   ]
  },
  {
   "cell_type": "code",
   "execution_count": 2,
   "metadata": {},
   "outputs": [],
   "source": [
    "def question2():\n",
    "    \"\"\"\n",
    "    Description:\n",
    "    a) Expand start. Expand 'a', then visit goal.\n",
    "    b) Expand start. Visit 'a' since it has the lowest weight. Visit 'c' since it has a total weight of 2 (compared to 4 and 12 for the other nodes in the fringe).\n",
    "        Visit 'd' with a weight of 3. Visit goal with a weight of 4.\n",
    "    c) Just going off of alphabet here - expand start, visit 'a', 'b', 'd', and we reach our goal!\n",
    "    d) I chose heuristic 1 - overall, the total weights seemed the most accurate. It's better for a heuristic to be a bit more on the conservative side, and I felt\n",
    "        that h2 is a little too aggressive in its estimates (For example, 'a' having a heuristic of 2). Expand start and add 'a' and goal to fringe. Explore 'a' since it has\n",
    "        a heuristic of 4. Add b:10 and c:4 to the fringe. Explore 'c' since it has the lowest h(x). Add d:6 and G:4. Goal is our lowest, so we visit it.\n",
    "    e) No. The inconsistency with both heuristics lies within the nodes 'start' and 'a'. Looking at start for h1:\n",
    "        h(start) = 5, cost(start, a) = 1, h(a) = 3\n",
    "        5 <= 1 + 3 is false.\n",
    "    f) No. Similar to my answer for h1:\n",
    "        h(start) = 4, cost(start, a) = 1, h(a) = 2\n",
    "        4 <= 1 + 2 is false.\n",
    "    \"\"\"\n",
    "    start = 'Start'\n",
    "    goal = 'Goal'\n",
    "\n",
    "    a = [start, goal]\n",
    "    b = [start, 'a', 'c', goal]\n",
    "    c = [start, 'a', 'b', 'd', goal]\n",
    "    d = [start, 'a', 'c', goal]\n",
    "    e = False\n",
    "    f = False\n",
    "\n",
    "    return a, b, c, d, e, f"
   ]
  },
  {
   "cell_type": "markdown",
   "metadata": {
    "id": "_uecj_VM0l1a"
   },
   "source": [
    "## Chess \n",
    "The remaining questions in this assignment, as well as all the questions in the following assignment, will make use of Python's chess module.\n",
    "\n",
    "If you're not familiar with this, it would probably be beneficial to spend some time going over it before getting started with the rest of the assignment. The official documentation is one place to get started: `https://python-chess.readthedocs.io/en/latest/`\n"
   ]
  },
  {
   "cell_type": "markdown",
   "metadata": {},
   "source": [
    "## The Knight Errant Problem\n",
    "The knight begins their quest in the bottom left-hand corner of the board, the tile 'A1'. Their quest will end when they reach the upper right-hand corner of the board, the tile 'H8'. Along the way, the knight will pass through many other tiles on the board. \n",
    "\n",
    "For each of the following questions, implement the corresponding search algorithm and return the list of tiles visited, in order. In Python's chess module, each tile has an integer id corresponding to it, where `'A1' = 0`, `'A2' = 1`, etc, and they are really just treated as integers by the chess module. Each chess square is equivalent to a number ranging from `0` to `63`, going from left to right, one row at at a time.\n",
    "\n",
    "For example, the knight starting on tile `'A1' = 0` and moving through tiles `'A1' = 0`, `'B3' = 17`, and `'D2' = 11`, in that order, before finally reaching the destination `'F1' = 5` would be represented by the list `[0, 17, 11, 5]`. Please note, this conversion from `A1` to `0` happens automatically, so please just don't be confused if you added a chess Tile to your list and saw it as an integer when you print it out; it is really the same thing.\n",
    "\n",
    "As one final piece of advice, it is not necessary to invent any grand new functions here to help you interface with the chess board. If you have an idea for something and it seems like too much, there may very well be a built-in chess module function that can do it for you. Please have a look before diving in head-first.\n",
    "\n",
    "A function to check whether a given board meets the goal condition is provided here for you below:"
   ]
  },
  {
   "cell_type": "code",
   "execution_count": 3,
   "metadata": {},
   "outputs": [],
   "source": [
    "import chess\n",
    "\n",
    "def goal_reached(board: chess.Board, goal_position: chess.Square):\n",
    "    \"\"\"\n",
    "    This function informs us as to whether the goal condition has been met during our search\n",
    "\n",
    "    Parameters:\n",
    "    - board: the chess board that the knight is moving upon\n",
    "\n",
    "    Returns:\n",
    "    - True: if the knight is on the destination tile 'H8'\n",
    "    - False: otherwise\n",
    "    \"\"\"\n",
    "    p = board.piece_at(goal_position)\n",
    "    return p and p.piece_type == chess.KNIGHT and p.color == chess.WHITE"
   ]
  },
  {
   "cell_type": "markdown",
   "metadata": {},
   "source": [
    "## Q3\n",
    "Implement the **Breadth-First Search** (BFS) algorithm to find the order of **expanded** tiles (not the final path) for the the Knight Errant Problem.\n",
    "\n",
    "Break ties in the order given by `board.legal_moves`. Please give your answer in a form similar to this example: `[0, 31, 15, ..., 63]`"
   ]
  },
  {
   "cell_type": "code",
   "execution_count": 4,
   "metadata": {},
   "outputs": [],
   "source": [
    "def BFS(board: chess.Board, goal_position: chess.Square):\n",
    "    \"\"\"\n",
    "    This function implements the breath first search algorithm\n",
    "\n",
    "    Parameters:\n",
    "    - board: the chess board that the knight is moving upon\n",
    "\n",
    "    Returns:\n",
    "    A list containing the visited tile values in the order they were visited with starting tile\n",
    "    always being the first tile and the goal tile always being the last tile\n",
    "    \"\"\"\n",
    "    this_board = board.copy()\n",
    "    visited_nodes_in_order = []\n",
    "\n",
    "    node = chess.A1\n",
    "    if goal_reached(this_board, goal_position):\n",
    "        return [node]\n",
    "    frontier = [node]\n",
    "    explored = set()\n",
    "\n",
    "    while frontier:\n",
    "        if len(frontier) == 0:\n",
    "            return None\n",
    "\n",
    "        current_node = frontier.pop(0)\n",
    "        explored.add(current_node)\n",
    "        visited_nodes_in_order.append(current_node)\n",
    "\n",
    "        this_board.clear()\n",
    "        this_board.set_piece_at(current_node, chess.Piece(chess.KNIGHT, chess.WHITE))\n",
    "        this_board.turn = chess.WHITE\n",
    "\n",
    "        if goal_reached(this_board, goal_position):\n",
    "            return visited_nodes_in_order\n",
    "\n",
    "        for move in this_board.legal_moves:\n",
    "            child = move.to_square\n",
    "            if child not in explored and child not in frontier:\n",
    "                frontier.append(child)\n",
    "\n",
    "    return None\n"
   ]
  },
  {
   "cell_type": "code",
   "execution_count": 5,
   "metadata": {},
   "outputs": [
    {
     "name": "stdout",
     "output_type": "stream",
     "text": [
      ". . . . . . . .\n",
      ". . . . . . . .\n",
      ". . . . . . . .\n",
      ". . . . . . . .\n",
      ". . . . . . . .\n",
      ". . . . . . . .\n",
      ". . . . . . . .\n",
      "N . . . . . . .\n",
      "[0, 17, 10, 34, 32, 27, 11, 2, 25, 20, 16, 4, 51, 49, 44, 40, 28, 24, 19, 42, 26, 37, 33, 21, 12, 5, 1, 8, 35, 30, 14, 3, 61, 57, 45, 41, 36, 59, 43, 54, 50, 38, 29, 22, 18, 13, 9, 52, 48, 47, 31, 15, 6, 55, 46, 62, 60, 39, 58, 56, 53, 23, 7, 63]\n"
     ]
    }
   ],
   "source": [
    "test_board = chess.Board(\"8/8/8/8/8/8/8/N7\")\n",
    "test_goal = chess.H8\n",
    "print(test_board)\n",
    "\n",
    "q3 = BFS(test_board, test_goal)\n",
    "print(q3)"
   ]
  },
  {
   "cell_type": "markdown",
   "metadata": {},
   "source": [
    "## Q4\n",
    "Implement the **Depth-First Search** (DFS) algorithm to find the order of **expanded** tiles (not the final path) for the the Knight Errant Problem.\n",
    "\n",
    "Break ties in the order given by `board.legal_moves`. Please give your answer in a form similar to this example: `[0, 31, 15, ..., 63]`"
   ]
  },
  {
   "cell_type": "code",
   "execution_count": 6,
   "metadata": {},
   "outputs": [],
   "source": [
    "def DFS(board: chess.Board, goal_position: chess.Square):\n",
    "    \"\"\"\n",
    "    This function implements the depth first search algorithm\n",
    "\n",
    "    Parameters:\n",
    "    - board: the chess board that the knight is moving upon\n",
    "\n",
    "    Returns:\n",
    "    A list containing the visited tile values in the order they were visited with starting tile\n",
    "    always being the first tile and the goal tile always being the last tile\n",
    "    \"\"\"\n",
    "    this_board = board.copy()\n",
    "    visited_nodes_in_order = []\n",
    "\n",
    "    node = chess.A1\n",
    "    if goal_reached(this_board, goal_position):\n",
    "        return [node]\n",
    "    stack = [node]\n",
    "    explored = set()\n",
    "\n",
    "    while stack:\n",
    "        if len(stack) == 0:\n",
    "            return None\n",
    "\n",
    "        current_node = stack.pop()\n",
    "        explored.add(current_node)\n",
    "        visited_nodes_in_order.append(current_node)\n",
    "\n",
    "        this_board.clear()\n",
    "        this_board.set_piece_at(current_node, chess.Piece(chess.KNIGHT, chess.WHITE))\n",
    "        this_board.turn = chess.WHITE\n",
    "\n",
    "        if goal_reached(this_board, goal_position):\n",
    "            return visited_nodes_in_order\n",
    "\n",
    "        for move in list(this_board.legal_moves)[::-1]:\n",
    "            child = move.to_square\n",
    "            if child not in explored:\n",
    "                stack.append(child)\n",
    "\n",
    "    return None\n"
   ]
  },
  {
   "cell_type": "code",
   "execution_count": 7,
   "metadata": {},
   "outputs": [
    {
     "name": "stdout",
     "output_type": "stream",
     "text": [
      ". . . . . . . .\n",
      ". . . . . . . .\n",
      ". . . . . . . .\n",
      ". . . . . . . .\n",
      ". . . . . . . .\n",
      ". . . . . . . .\n",
      ". . . . . . . .\n",
      "N . . . . . . .\n",
      "[0, 17, 34, 51, 61, 55, 45, 62, 52, 58, 48, 42, 59, 53, 63]\n"
     ]
    }
   ],
   "source": [
    "test_board = chess.Board(\"8/8/8/8/8/8/8/N7\")\n",
    "test_goal = chess.H8\n",
    "print(test_board)\n",
    "\n",
    "q4 = DFS(test_board, test_goal)\n",
    "print(q4)"
   ]
  },
  {
   "cell_type": "markdown",
   "metadata": {
    "id": "LM0yg5nnW_cx"
   },
   "source": [
    "## Q5\n",
    "Implement the **A* Search** (Textbook Section 3.5.2) algorithm to find the **final path found** for the Knight Errant Problem.\n",
    "\n",
    "#### A* Search\n",
    "---\n",
    "The most widely known form of best-first search is called **A∗ search** (pronounced \"A-star search\"). It evaluates nodes by combining $g(n)$, the cost to reach the node, and $h(n)$, the cost to get from the node to the goal:\n",
    "\n",
    "\\begin{equation*}\n",
    "f(n) = g(n) + h(n) .\n",
    "\\end{equation*}\n",
    "\n",
    "Since $g(n)$ gives the path cost from the start node to node $n$, and $h(n)$ is the estimated cost of the cheapest path from n to the goal, we have\n",
    "\n",
    "\n",
    "$f(n)$= estimated cost of the cheapest solution through $n$ .\n",
    "\n",
    "**NOTE:**\n",
    "- If two positions are considered equally good choices, take the node that appears first in board.legal_moves\n",
    "- You may also find the built-in function `chess.square_knight_distance(a, b)` useful here\n"
   ]
  },
  {
   "cell_type": "code",
   "execution_count": 8,
   "metadata": {},
   "outputs": [],
   "source": [
    "def a_star_search(board: chess.Board, goal_position: chess.Square):\n",
    "    \"\"\"\n",
    "    This function implements the A* search algorithm\n",
    "\n",
    "    Parameters:\n",
    "    - board: the chess board that the knight is moving upon\n",
    "\n",
    "    Returns:\n",
    "    A list containing the final path returned by A*, starting with the start tile's ID and ending with the goal tile's ID.\n",
    "    \"\"\"\n",
    "    pathing = {}\n",
    "    this_board = board.copy()\n",
    "    frontier = PriorityQueue()\n",
    "    frontier.insert((0, chess.A1))\n",
    "    explored = set()\n",
    "\n",
    "    while not frontier.empty():\n",
    "        current_node = frontier.pop()[1]\n",
    "        this_board.clear()\n",
    "        this_board.set_piece_at(current_node, chess.Piece(chess.KNIGHT, chess.WHITE))\n",
    "        this_board.turn = chess.WHITE\n",
    "\n",
    "        if goal_reached(this_board, goal_position):\n",
    "            return pathing_to_list(pathing, goal_position)\n",
    "\n",
    "        explored.add(current_node)\n",
    "        for move in this_board.legal_moves:\n",
    "            child = move.to_square\n",
    "            g = 1 # cost of moving to child. always 1 for a legal move\n",
    "            h = chess.square_knight_distance(child, goal_position) # heuristic\n",
    "            in_frontier = frontier.find(child)\n",
    "            if child not in explored and not in_frontier:\n",
    "                frontier.insert((g + h, child))\n",
    "                pathing[child] = current_node\n",
    "            elif in_frontier and in_frontier[0] > g + h:\n",
    "                frontier.queue.remove(in_frontier)\n",
    "                frontier.insert((g + h, child))\n",
    "                pathing[child] = current_node\n",
    "\n",
    "    return None\n",
    "\n",
    "class PriorityQueue:\n",
    "    \"\"\" The Python built-in priority queue didn't work since it doesn't allow for arbitrary ordering of elements of the same cost\n",
    "        We needed the tie breaker to be the order of the legal_moves, so I implemented my own priority queue.\n",
    "    \"\"\"\n",
    "    def __init__(self) -> None:\n",
    "        self.queue = []\n",
    "\n",
    "    def find(self, node: chess.Square):\n",
    "        # Probably a way more efficient way to do this but whatever\n",
    "        for prev_cost, prev_node in self.queue:\n",
    "            if prev_node == node:\n",
    "                return (prev_cost, node)\n",
    "        return None\n",
    "\n",
    "    def insert(self, cost_node: tuple):\n",
    "        for i in range(len(self.queue)):\n",
    "            if self.queue[i][0] > cost_node[0]:\n",
    "                self.queue.insert(i, cost_node)\n",
    "                return\n",
    "        self.queue.append(cost_node)\n",
    "\n",
    "    def pop(self):\n",
    "        return self.queue.pop(0)\n",
    "\n",
    "    def empty(self):\n",
    "        return len(self.queue) == 0\n",
    "\n",
    "def pathing_to_list(pathing: dict, goal: chess.Square = chess.H8):\n",
    "    optimal_path = [goal]\n",
    "    current_node = goal\n",
    "    while pathing.get(current_node):\n",
    "        optimal_path.append(pathing[current_node])\n",
    "        current_node = pathing[current_node]\n",
    "    optimal_path.append(chess.A1)\n",
    "    return optimal_path[::-1]\n",
    "\n"
   ]
  },
  {
   "cell_type": "code",
   "execution_count": 9,
   "metadata": {},
   "outputs": [
    {
     "name": "stdout",
     "output_type": "stream",
     "text": [
      ". . . . . . . .\n",
      ". . . . . . . .\n",
      ". . . . . . . .\n",
      ". . . . . . . .\n",
      ". . . . . . . .\n",
      ". . . . . . . .\n",
      ". . . . . . . .\n",
      "N . . . . . . .\n",
      "[0, 17, 34, 51, 61, 46, 63]\n"
     ]
    }
   ],
   "source": [
    "test_board = chess.Board(\"8/8/8/8/8/8/8/N7\")\n",
    "test_goal = chess.H8\n",
    "print(test_board)\n",
    "\n",
    "q5 = a_star_search(test_board, test_goal)\n",
    "print(q5)\n"
   ]
  }
 ],
 "metadata": {
  "colab": {
   "collapsed_sections": [
    "Hc-OUgRxWIPM"
   ],
   "provenance": []
  },
  "kernelspec": {
   "display_name": "Python 3",
   "language": "python",
   "name": "python3"
  },
  "language_info": {
   "codemirror_mode": {
    "name": "ipython",
    "version": 3
   },
   "file_extension": ".py",
   "mimetype": "text/x-python",
   "name": "python",
   "nbconvert_exporter": "python",
   "pygments_lexer": "ipython3",
   "version": "3.11.5"
  }
 },
 "nbformat": 4,
 "nbformat_minor": 1
}
